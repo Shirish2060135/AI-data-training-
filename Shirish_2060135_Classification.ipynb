{
  "nbformat": 4,
  "nbformat_minor": 0,
  "metadata": {
    "colab": {
      "name": "Shirish_2060135_Classification.ipynb",
      "provenance": [],
      "collapsed_sections": []
    },
    "kernelspec": {
      "name": "python3",
      "display_name": "Python 3"
    },
    "language_info": {
      "name": "python"
    }
  },
  "cells": [
    {
      "cell_type": "markdown",
      "source": [
        "Dataset-https://www.kaggle.com/datasets/johnsmith88/heart-disease-dataset"
      ],
      "metadata": {
        "id": "gXCd_pLgPXD0"
      }
    },
    {
      "cell_type": "markdown",
      "source": [
        "Heart Disease \n",
        "\n",
        "This data set dates from 1988 and consists of four databases: Cleveland, Hungary, Switzerland, and Long Beach V. It contains 76 attributes, including the predicted attribute, but all published experiments refer to using a subset of 14 of them. The \"target\" field refers to the presence of heart disease in the patient. It is integer valued 0 = no disease and 1 = disease."
      ],
      "metadata": {
        "id": "Mh9AMGPrRVXH"
      }
    },
    {
      "cell_type": "markdown",
      "source": [
        "Variables\n",
        "\n",
        "age - age in years\n",
        "\n",
        "sex - (1 = male; 0 = female)\n",
        "\n",
        "cp - chest pain type\n",
        "\n",
        "trestbps - resting blood pressure (in mm Hg on admission to the hospital)\n",
        "\n",
        "chol - serum cholestoral in mg/dl\n",
        "\n",
        "fbs - (fasting blood sugar > 120 mg/dl) (1 = true; 0 = false)\n",
        "\n",
        "restecg - resting electrocardiographic results\n",
        "\n",
        "thalach - maximum heart rate achieved\n",
        "\n",
        "exang - exercise induced angina (1 = yes; 0 = no)\n",
        "\n",
        "oldpeak - ST depression induced by exercise relative to rest\n",
        "\n",
        "slope - the slope of the peak exercise ST segment\n",
        "\n",
        "ca - number of major vessels (0-3) colored by flourosopy\n",
        "\n",
        "thal - 3 = normal; 6 = fixed defect; 7 = reversable defect\n",
        "\n",
        "target - have disease or not (1=yes, 0=no)\n"
      ],
      "metadata": {
        "id": "s3VC6ETmRkei"
      }
    },
    {
      "cell_type": "markdown",
      "source": [
        "# Data Understanding"
      ],
      "metadata": {
        "id": "c_UqNfqgSCQT"
      }
    },
    {
      "cell_type": "markdown",
      "source": [
        "Importing the necessary libraries"
      ],
      "metadata": {
        "id": "JwfUIHzpSI7G"
      }
    },
    {
      "cell_type": "markdown",
      "source": [
        "**Libraries**\n",
        "\n",
        "numpy -> for numerical calculations\n",
        "\n",
        "matplotlib.pyplot -> for data visualization\n",
        "\n",
        "pandas -> for reading csv file and processing it\n",
        "\n",
        "seaborn -> for data visualization"
      ],
      "metadata": {
        "id": "O-7ZIl4xSN1M"
      }
    },
    {
      "cell_type": "code",
      "source": [
        "%matplotlib inline\n",
        "import numpy as np\n",
        "import matplotlib.pyplot as plt\n",
        "import pandas as pd\n",
        "import seaborn as sns\n",
        "import warnings\n",
        "warnings.filterwarnings(\"ignore\")\n",
        "plt.rcParams['figure.figsize'] = (10.0, 5.0)"
      ],
      "metadata": {
        "id": "r1V_HqqJPhBo"
      },
      "execution_count": null,
      "outputs": []
    },
    {
      "cell_type": "code",
      "source": [
        "from google.colab import drive\n",
        "drive.mount('/content/drive')"
      ],
      "metadata": {
        "colab": {
          "base_uri": "https://localhost:8080/"
        },
        "id": "hWnp2dlcR9I_",
        "outputId": "27ac4838-76c5-499e-cafc-7ac1f384a919"
      },
      "execution_count": null,
      "outputs": [
        {
          "output_type": "stream",
          "name": "stdout",
          "text": [
            "Mounted at /content/drive\n"
          ]
        }
      ]
    },
    {
      "cell_type": "code",
      "source": [
        "path_datasets = \"/content/drive/MyDrive/heart.csv\""
      ],
      "metadata": {
        "id": "8FvsU37aScOL"
      },
      "execution_count": null,
      "outputs": []
    },
    {
      "cell_type": "code",
      "source": [
        "# Reading the dataset\n",
        "datasets = pd.read_csv(path_datasets)"
      ],
      "metadata": {
        "id": "4R_LI_nfS88l"
      },
      "execution_count": null,
      "outputs": []
    },
    {
      "cell_type": "code",
      "source": [
        "# Checking the shape of the dataset\n",
        "datasets.shape "
      ],
      "metadata": {
        "colab": {
          "base_uri": "https://localhost:8080/"
        },
        "id": "E2QKom1ATN1n",
        "outputId": "c2d02650-e106-4335-9d71-93289fabd53c"
      },
      "execution_count": null,
      "outputs": [
        {
          "output_type": "execute_result",
          "data": {
            "text/plain": [
              "(303, 14)"
            ]
          },
          "metadata": {},
          "execution_count": 5
        }
      ]
    },
    {
      "cell_type": "code",
      "source": [
        "# Checking the first 5 rows\n",
        "datasets.head()"
      ],
      "metadata": {
        "colab": {
          "base_uri": "https://localhost:8080/",
          "height": 206
        },
        "id": "yLhZ-cnbTQEq",
        "outputId": "384fc291-97b9-4d9b-9934-ddd6b93b25ff"
      },
      "execution_count": null,
      "outputs": [
        {
          "output_type": "execute_result",
          "data": {
            "text/plain": [
              "   age  sex  cp  trestbps  chol  fbs  restecg  thalach  exang  oldpeak  slope  \\\n",
              "0   63    1   3       145   233    1        0      150      0      2.3      0   \n",
              "1   37    1   2       130   250    0        1      187      0      3.5      0   \n",
              "2   41    0   1       130   204    0        0      172      0      1.4      2   \n",
              "3   56    1   1       120   236    0        1      178      0      0.8      2   \n",
              "4   57    0   0       120   354    0        1      163      1      0.6      2   \n",
              "\n",
              "   ca  thal  target  \n",
              "0   0     1       1  \n",
              "1   0     2       1  \n",
              "2   0     2       1  \n",
              "3   0     2       1  \n",
              "4   0     2       1  "
            ],
            "text/html": [
              "\n",
              "  <div id=\"df-3f836c7b-8f6b-429b-9f9c-19de6a4faed9\">\n",
              "    <div class=\"colab-df-container\">\n",
              "      <div>\n",
              "<style scoped>\n",
              "    .dataframe tbody tr th:only-of-type {\n",
              "        vertical-align: middle;\n",
              "    }\n",
              "\n",
              "    .dataframe tbody tr th {\n",
              "        vertical-align: top;\n",
              "    }\n",
              "\n",
              "    .dataframe thead th {\n",
              "        text-align: right;\n",
              "    }\n",
              "</style>\n",
              "<table border=\"1\" class=\"dataframe\">\n",
              "  <thead>\n",
              "    <tr style=\"text-align: right;\">\n",
              "      <th></th>\n",
              "      <th>age</th>\n",
              "      <th>sex</th>\n",
              "      <th>cp</th>\n",
              "      <th>trestbps</th>\n",
              "      <th>chol</th>\n",
              "      <th>fbs</th>\n",
              "      <th>restecg</th>\n",
              "      <th>thalach</th>\n",
              "      <th>exang</th>\n",
              "      <th>oldpeak</th>\n",
              "      <th>slope</th>\n",
              "      <th>ca</th>\n",
              "      <th>thal</th>\n",
              "      <th>target</th>\n",
              "    </tr>\n",
              "  </thead>\n",
              "  <tbody>\n",
              "    <tr>\n",
              "      <th>0</th>\n",
              "      <td>63</td>\n",
              "      <td>1</td>\n",
              "      <td>3</td>\n",
              "      <td>145</td>\n",
              "      <td>233</td>\n",
              "      <td>1</td>\n",
              "      <td>0</td>\n",
              "      <td>150</td>\n",
              "      <td>0</td>\n",
              "      <td>2.3</td>\n",
              "      <td>0</td>\n",
              "      <td>0</td>\n",
              "      <td>1</td>\n",
              "      <td>1</td>\n",
              "    </tr>\n",
              "    <tr>\n",
              "      <th>1</th>\n",
              "      <td>37</td>\n",
              "      <td>1</td>\n",
              "      <td>2</td>\n",
              "      <td>130</td>\n",
              "      <td>250</td>\n",
              "      <td>0</td>\n",
              "      <td>1</td>\n",
              "      <td>187</td>\n",
              "      <td>0</td>\n",
              "      <td>3.5</td>\n",
              "      <td>0</td>\n",
              "      <td>0</td>\n",
              "      <td>2</td>\n",
              "      <td>1</td>\n",
              "    </tr>\n",
              "    <tr>\n",
              "      <th>2</th>\n",
              "      <td>41</td>\n",
              "      <td>0</td>\n",
              "      <td>1</td>\n",
              "      <td>130</td>\n",
              "      <td>204</td>\n",
              "      <td>0</td>\n",
              "      <td>0</td>\n",
              "      <td>172</td>\n",
              "      <td>0</td>\n",
              "      <td>1.4</td>\n",
              "      <td>2</td>\n",
              "      <td>0</td>\n",
              "      <td>2</td>\n",
              "      <td>1</td>\n",
              "    </tr>\n",
              "    <tr>\n",
              "      <th>3</th>\n",
              "      <td>56</td>\n",
              "      <td>1</td>\n",
              "      <td>1</td>\n",
              "      <td>120</td>\n",
              "      <td>236</td>\n",
              "      <td>0</td>\n",
              "      <td>1</td>\n",
              "      <td>178</td>\n",
              "      <td>0</td>\n",
              "      <td>0.8</td>\n",
              "      <td>2</td>\n",
              "      <td>0</td>\n",
              "      <td>2</td>\n",
              "      <td>1</td>\n",
              "    </tr>\n",
              "    <tr>\n",
              "      <th>4</th>\n",
              "      <td>57</td>\n",
              "      <td>0</td>\n",
              "      <td>0</td>\n",
              "      <td>120</td>\n",
              "      <td>354</td>\n",
              "      <td>0</td>\n",
              "      <td>1</td>\n",
              "      <td>163</td>\n",
              "      <td>1</td>\n",
              "      <td>0.6</td>\n",
              "      <td>2</td>\n",
              "      <td>0</td>\n",
              "      <td>2</td>\n",
              "      <td>1</td>\n",
              "    </tr>\n",
              "  </tbody>\n",
              "</table>\n",
              "</div>\n",
              "      <button class=\"colab-df-convert\" onclick=\"convertToInteractive('df-3f836c7b-8f6b-429b-9f9c-19de6a4faed9')\"\n",
              "              title=\"Convert this dataframe to an interactive table.\"\n",
              "              style=\"display:none;\">\n",
              "        \n",
              "  <svg xmlns=\"http://www.w3.org/2000/svg\" height=\"24px\"viewBox=\"0 0 24 24\"\n",
              "       width=\"24px\">\n",
              "    <path d=\"M0 0h24v24H0V0z\" fill=\"none\"/>\n",
              "    <path d=\"M18.56 5.44l.94 2.06.94-2.06 2.06-.94-2.06-.94-.94-2.06-.94 2.06-2.06.94zm-11 1L8.5 8.5l.94-2.06 2.06-.94-2.06-.94L8.5 2.5l-.94 2.06-2.06.94zm10 10l.94 2.06.94-2.06 2.06-.94-2.06-.94-.94-2.06-.94 2.06-2.06.94z\"/><path d=\"M17.41 7.96l-1.37-1.37c-.4-.4-.92-.59-1.43-.59-.52 0-1.04.2-1.43.59L10.3 9.45l-7.72 7.72c-.78.78-.78 2.05 0 2.83L4 21.41c.39.39.9.59 1.41.59.51 0 1.02-.2 1.41-.59l7.78-7.78 2.81-2.81c.8-.78.8-2.07 0-2.86zM5.41 20L4 18.59l7.72-7.72 1.47 1.35L5.41 20z\"/>\n",
              "  </svg>\n",
              "      </button>\n",
              "      \n",
              "  <style>\n",
              "    .colab-df-container {\n",
              "      display:flex;\n",
              "      flex-wrap:wrap;\n",
              "      gap: 12px;\n",
              "    }\n",
              "\n",
              "    .colab-df-convert {\n",
              "      background-color: #E8F0FE;\n",
              "      border: none;\n",
              "      border-radius: 50%;\n",
              "      cursor: pointer;\n",
              "      display: none;\n",
              "      fill: #1967D2;\n",
              "      height: 32px;\n",
              "      padding: 0 0 0 0;\n",
              "      width: 32px;\n",
              "    }\n",
              "\n",
              "    .colab-df-convert:hover {\n",
              "      background-color: #E2EBFA;\n",
              "      box-shadow: 0px 1px 2px rgba(60, 64, 67, 0.3), 0px 1px 3px 1px rgba(60, 64, 67, 0.15);\n",
              "      fill: #174EA6;\n",
              "    }\n",
              "\n",
              "    [theme=dark] .colab-df-convert {\n",
              "      background-color: #3B4455;\n",
              "      fill: #D2E3FC;\n",
              "    }\n",
              "\n",
              "    [theme=dark] .colab-df-convert:hover {\n",
              "      background-color: #434B5C;\n",
              "      box-shadow: 0px 1px 3px 1px rgba(0, 0, 0, 0.15);\n",
              "      filter: drop-shadow(0px 1px 2px rgba(0, 0, 0, 0.3));\n",
              "      fill: #FFFFFF;\n",
              "    }\n",
              "  </style>\n",
              "\n",
              "      <script>\n",
              "        const buttonEl =\n",
              "          document.querySelector('#df-3f836c7b-8f6b-429b-9f9c-19de6a4faed9 button.colab-df-convert');\n",
              "        buttonEl.style.display =\n",
              "          google.colab.kernel.accessAllowed ? 'block' : 'none';\n",
              "\n",
              "        async function convertToInteractive(key) {\n",
              "          const element = document.querySelector('#df-3f836c7b-8f6b-429b-9f9c-19de6a4faed9');\n",
              "          const dataTable =\n",
              "            await google.colab.kernel.invokeFunction('convertToInteractive',\n",
              "                                                     [key], {});\n",
              "          if (!dataTable) return;\n",
              "\n",
              "          const docLinkHtml = 'Like what you see? Visit the ' +\n",
              "            '<a target=\"_blank\" href=https://colab.research.google.com/notebooks/data_table.ipynb>data table notebook</a>'\n",
              "            + ' to learn more about interactive tables.';\n",
              "          element.innerHTML = '';\n",
              "          dataTable['output_type'] = 'display_data';\n",
              "          await google.colab.output.renderOutput(dataTable, element);\n",
              "          const docLink = document.createElement('div');\n",
              "          docLink.innerHTML = docLinkHtml;\n",
              "          element.appendChild(docLink);\n",
              "        }\n",
              "      </script>\n",
              "    </div>\n",
              "  </div>\n",
              "  "
            ]
          },
          "metadata": {},
          "execution_count": 6
        }
      ]
    },
    {
      "cell_type": "code",
      "source": [
        "# Checking the information of the datasets\n",
        "datasets.info()"
      ],
      "metadata": {
        "colab": {
          "base_uri": "https://localhost:8080/"
        },
        "id": "THGhSHacTVnY",
        "outputId": "638a8a42-5a40-49b7-d010-a4e3eb979aeb"
      },
      "execution_count": null,
      "outputs": [
        {
          "output_type": "stream",
          "name": "stdout",
          "text": [
            "<class 'pandas.core.frame.DataFrame'>\n",
            "RangeIndex: 303 entries, 0 to 302\n",
            "Data columns (total 14 columns):\n",
            " #   Column    Non-Null Count  Dtype  \n",
            "---  ------    --------------  -----  \n",
            " 0   age       303 non-null    int64  \n",
            " 1   sex       303 non-null    int64  \n",
            " 2   cp        303 non-null    int64  \n",
            " 3   trestbps  303 non-null    int64  \n",
            " 4   chol      303 non-null    int64  \n",
            " 5   fbs       303 non-null    int64  \n",
            " 6   restecg   303 non-null    int64  \n",
            " 7   thalach   303 non-null    int64  \n",
            " 8   exang     303 non-null    int64  \n",
            " 9   oldpeak   303 non-null    float64\n",
            " 10  slope     303 non-null    int64  \n",
            " 11  ca        303 non-null    int64  \n",
            " 12  thal      303 non-null    int64  \n",
            " 13  target    303 non-null    int64  \n",
            "dtypes: float64(1), int64(13)\n",
            "memory usage: 33.3 KB\n"
          ]
        }
      ]
    },
    {
      "cell_type": "markdown",
      "source": [
        "# 2. Data Analysis"
      ],
      "metadata": {
        "id": "48I1-8EXUUHY"
      }
    },
    {
      "cell_type": "code",
      "source": [
        "# Plotting count plot of target\n",
        "sns.countplot(x=\"target\", data=datasets)"
      ],
      "metadata": {
        "colab": {
          "base_uri": "https://localhost:8080/",
          "height": 296
        },
        "id": "mniWr0rSUaPB",
        "outputId": "17ff6aea-5626-45f2-e9fb-de49e2e58adc"
      },
      "execution_count": null,
      "outputs": [
        {
          "output_type": "execute_result",
          "data": {
            "text/plain": [
              "<matplotlib.axes._subplots.AxesSubplot at 0x7fc8459e9a90>"
            ]
          },
          "metadata": {},
          "execution_count": 8
        },
        {
          "output_type": "display_data",
          "data": {
            "text/plain": [
              "<Figure size 432x288 with 1 Axes>"
            ],
            "image/png": "[encoded data removed]"
          },
          "metadata": {
            "needs_background": "light"
          }
        }
      ]
    },
    {
      "cell_type": "markdown",
      "source": [
        "Here's the graphical representation between the relationship of variable target and datasets. "
      ],
      "metadata": {
        "id": "fphtiFBZsfe8"
      }
    },
    {
      "cell_type": "code",
      "source": [
        "# Plotting count plot of Sex\n",
        "sns.countplot(x='sex', data=datasets, palette=\"mako_r\")\n",
        "plt.xlabel(\"Sex (0 = female, 1= male)\")\n",
        "plt.show()"
      ],
      "metadata": {
        "colab": {
          "base_uri": "https://localhost:8080/",
          "height": 279
        },
        "id": "IlnjMPMsUlae",
        "outputId": "46c3b1c5-8e39-484f-e0d8-e01d63119edd"
      },
      "execution_count": null,
      "outputs": [
        {
          "output_type": "display_data",
          "data": {
            "text/plain": [
              "<Figure size 432x288 with 1 Axes>"
            ],
            "image/png": "[encoded data removed]"
          },
          "metadata": {
            "needs_background": "light"
          }
        }
      ]
    },
    {
      "cell_type": "markdown",
      "source": [
        "Here's the graphical representation between the relationship of variable Sex and datasets.(0 = Female and 1 = Male)"
      ],
      "metadata": {
        "id": "xLohfGODtlWA"
      }
    },
    {
      "cell_type": "code",
      "source": [
        "\n",
        "#Plotting heart disease frequency for age\n",
        "pd.crosstab(datasets.age,datasets.target).plot(kind=\"bar\",figsize=(20,6))\n",
        "plt.title('Heart Disease Frequency for Ages')\n",
        "plt.xlabel('Age')\n",
        "plt.ylabel('Frequency')\n",
        "plt.savefig('heartDiseaseAndAges.png')\n",
        "plt.show() "
      ],
      "metadata": {
        "colab": {
          "base_uri": "https://localhost:8080/",
          "height": 405
        },
        "id": "llVt6tTcUyA-",
        "outputId": "847abdae-1d30-49ed-bc7e-ce24bb2e08e1"
      },
      "execution_count": null,
      "outputs": [
        {
          "output_type": "display_data",
          "data": {
            "text/plain": [
              "<Figure size 1440x432 with 1 Axes>"
            ],
            "image/png": "[encoded data removed]"
          },
          "metadata": {
            "needs_background": "light"
          }
        }
      ]
    },
    {
      "cell_type": "markdown",
      "source": [
        "Here is the graphical represention of frequencies of age having the heart disease."
      ],
      "metadata": {
        "id": "-1CziyOWt0v7"
      }
    },
    {
      "cell_type": "code",
      "source": [
        "#Plotting heart disease frequency for sex\n",
        "pd.crosstab(datasets.sex,datasets.target).plot(kind=\"bar\",figsize=(15,6))\n",
        "plt.title('Heart Disease Frequency for Sex')\n",
        "plt.xlabel('Sex (0 = Female, 1 = Male)')\n",
        "plt.xticks(rotation=0)\n",
        "plt.legend([\"Haven't Disease\", \"Have Disease\"])\n",
        "plt.ylabel('Frequency')\n",
        "plt.show()"
      ],
      "metadata": {
        "colab": {
          "base_uri": "https://localhost:8080/",
          "height": 404
        },
        "id": "Qn9C8dTcXGyI",
        "outputId": "daca806e-dee1-4583-cc0c-f6dff6e3046b"
      },
      "execution_count": null,
      "outputs": [
        {
          "output_type": "display_data",
          "data": {
            "text/plain": [
              "<Figure size 1080x432 with 1 Axes>"
            ],
            "image/png": "[encoded data removed]"
          },
          "metadata": {
            "needs_background": "light"
          }
        }
      ]
    },
    {
      "cell_type": "markdown",
      "source": [
        "Here is the graphical represention of frequencies of sex having the heart disease."
      ],
      "metadata": {
        "id": "cDdpmPLnuOup"
      }
    },
    {
      "cell_type": "code",
      "source": [
        "# Plotting the bar plot of sex\n",
        "datasets['sex'].plot.hist()"
      ],
      "metadata": {
        "colab": {
          "base_uri": "https://localhost:8080/",
          "height": 282
        },
        "id": "UTaNC0F0XenR",
        "outputId": "f8ee439c-bb84-4497-a309-8034cadcd64b"
      },
      "execution_count": null,
      "outputs": [
        {
          "output_type": "execute_result",
          "data": {
            "text/plain": [
              "<matplotlib.axes._subplots.AxesSubplot at 0x7fc8451da850>"
            ]
          },
          "metadata": {},
          "execution_count": 12
        },
        {
          "output_type": "display_data",
          "data": {
            "text/plain": [
              "<Figure size 432x288 with 1 Axes>"
            ],
            "image/png": "[encoded data removed]"
          },
          "metadata": {
            "needs_background": "light"
          }
        }
      ]
    },
    {
      "cell_type": "markdown",
      "source": [
        "Here are the number of male and female in dataset(0=female and 1= male)"
      ],
      "metadata": {
        "id": "trlUBMdluX4h"
      }
    },
    {
      "cell_type": "code",
      "source": [
        "# Plotting the bar plot of Age\n",
        "datasets['age'].plot.hist()"
      ],
      "metadata": {
        "colab": {
          "base_uri": "https://localhost:8080/",
          "height": 282
        },
        "id": "PMn5YuPlXiIT",
        "outputId": "479bf860-1c82-440c-e604-5acbde8986a7"
      },
      "execution_count": null,
      "outputs": [
        {
          "output_type": "execute_result",
          "data": {
            "text/plain": [
              "<matplotlib.axes._subplots.AxesSubplot at 0x7fc84518ac50>"
            ]
          },
          "metadata": {},
          "execution_count": 13
        },
        {
          "output_type": "display_data",
          "data": {
            "text/plain": [
              "<Figure size 432x288 with 1 Axes>"
            ],
            "image/png": "[encoded data removed]"
          },
          "metadata": {
            "needs_background": "light"
          }
        }
      ]
    },
    {
      "cell_type": "markdown",
      "source": [
        "Here are the number of age containg in this dataset."
      ],
      "metadata": {
        "id": "JTd-OzJtuw4j"
      }
    },
    {
      "cell_type": "code",
      "source": [
        "# Plotting count plot of restecg\n",
        "sns.countplot(x='restecg', data=datasets)"
      ],
      "metadata": {
        "colab": {
          "base_uri": "https://localhost:8080/",
          "height": 296
        },
        "id": "zQjcMktEYCEH",
        "outputId": "579b098b-0522-4f59-dee3-f9a66dfe0849"
      },
      "execution_count": null,
      "outputs": [
        {
          "output_type": "execute_result",
          "data": {
            "text/plain": [
              "<matplotlib.axes._subplots.AxesSubplot at 0x7fc84510add0>"
            ]
          },
          "metadata": {},
          "execution_count": 14
        },
        {
          "output_type": "display_data",
          "data": {
            "text/plain": [
              "<Figure size 432x288 with 1 Axes>"
            ],
            "image/png": "[encoded data removed]"
          },
          "metadata": {
            "needs_background": "light"
          }
        }
      ]
    },
    {
      "cell_type": "markdown",
      "source": [
        "Here are the  results of resting electrocardiographic."
      ],
      "metadata": {
        "id": "KfQZ8VWKvBC7"
      }
    },
    {
      "cell_type": "code",
      "source": [
        "# Plots the heat map of the correlation of the datas\n",
        "sns.heatmap(datasets.corr(),annot=True)"
      ],
      "metadata": {
        "colab": {
          "base_uri": "https://localhost:8080/",
          "height": 317
        },
        "id": "UsgOLqJpYRF3",
        "outputId": "93e04e1f-8ca9-4f9c-ac45-4f76b49ca5c9"
      },
      "execution_count": null,
      "outputs": [
        {
          "output_type": "execute_result",
          "data": {
            "text/plain": [
              "<matplotlib.axes._subplots.AxesSubplot at 0x7fc84501e050>"
            ]
          },
          "metadata": {},
          "execution_count": 15
        },
        {
          "output_type": "display_data",
          "data": {
            "text/plain": [
              "<Figure size 432x288 with 2 Axes>"
            ],
            "image/png": "[encoded data removed]"
          },
          "metadata": {
            "needs_background": "light"
          }
        }
      ]
    },
    {
      "cell_type": "markdown",
      "source": [
        "Here's the heat map of "
      ],
      "metadata": {
        "id": "qmAr8_65sb5V"
      }
    },
    {
      "cell_type": "markdown",
      "source": [
        "# 3. Data Cleaning Manipulation"
      ],
      "metadata": {
        "id": "WYplWMCtYt12"
      }
    },
    {
      "cell_type": "code",
      "source": [
        "# Removing Outliers from the dataset\n",
        "plt.figure(figsize=(15,5))\n",
        "sns.boxplot(data=datasets,orient='h')"
      ],
      "metadata": {
        "colab": {
          "base_uri": "https://localhost:8080/",
          "height": 337
        },
        "id": "EUlif29EYvOG",
        "outputId": "beb5d8e9-affd-47c4-8e59-1e78255ff9c2"
      },
      "execution_count": null,
      "outputs": [
        {
          "output_type": "execute_result",
          "data": {
            "text/plain": [
              "<matplotlib.axes._subplots.AxesSubplot at 0x7fc8425b28d0>"
            ]
          },
          "metadata": {},
          "execution_count": 16
        },
        {
          "output_type": "display_data",
          "data": {
            "text/plain": [
              "<Figure size 1080x360 with 1 Axes>"
            ],
            "image/png": "[encoded data removed]"
          },
          "metadata": {
            "needs_background": "light"
          }
        }
      ]
    },
    {
      "cell_type": "code",
      "source": [
        "q1 = datasets.thalach.quantile(0.25)\n",
        "q3 = datasets.thalach.quantile(0.75)\n",
        "IQR = q3 - q1\n",
        "lower_limit = q1 - 1.5 * IQR\n",
        "k1=datasets[datasets[\"thalach\"] < lower_limit]\n",
        "data2=datasets[datasets[\"thalach\"] > lower_limit]\n",
        "sns.boxplot(datasets[\"thalach\"])"
      ],
      "metadata": {
        "id": "RrLbeRbBZeB7",
        "colab": {
          "base_uri": "https://localhost:8080/",
          "height": 296
        },
        "outputId": "43f641e9-cbe7-4d33-ec64-28cec2184dd8"
      },
      "execution_count": null,
      "outputs": [
        {
          "output_type": "execute_result",
          "data": {
            "text/plain": [
              "<matplotlib.axes._subplots.AxesSubplot at 0x7fc840c742d0>"
            ]
          },
          "metadata": {},
          "execution_count": 17
        },
        {
          "output_type": "display_data",
          "data": {
            "text/plain": [
              "<Figure size 432x288 with 1 Axes>"
            ],
            "image/png": "[encoded data removed]"
          },
          "metadata": {
            "needs_background": "light"
          }
        }
      ]
    },
    {
      "cell_type": "code",
      "source": [
        "# Removing Outliers from the dataset\n",
        "plt.figure(figsize=(15,5))\n",
        "sns.boxplot(data=datasets,orient='h')"
      ],
      "metadata": {
        "colab": {
          "base_uri": "https://localhost:8080/",
          "height": 337
        },
        "id": "uTFEgNwKZxoB",
        "outputId": "dd861753-7310-46c8-d410-ed2dab3fe701"
      },
      "execution_count": null,
      "outputs": [
        {
          "output_type": "execute_result",
          "data": {
            "text/plain": [
              "<matplotlib.axes._subplots.AxesSubplot at 0x7fc84528ba90>"
            ]
          },
          "metadata": {},
          "execution_count": 18
        },
        {
          "output_type": "display_data",
          "data": {
            "text/plain": [
              "<Figure size 1080x360 with 1 Axes>"
            ],
            "image/png": "[encoded data removed]"
          },
          "metadata": {
            "needs_background": "light"
          }
        }
      ]
    },
    {
      "cell_type": "code",
      "source": [
        "#dropping data\n",
        "x = datasets.drop('target',axis=1)\n",
        "y = datasets['target']"
      ],
      "metadata": {
        "id": "X_TjqyHWXep_"
      },
      "execution_count": null,
      "outputs": []
    },
    {
      "cell_type": "markdown",
      "source": [
        "Dropping the Dataset target\n"
      ],
      "metadata": {
        "id": "pCf2mx5Gwz8D"
      }
    },
    {
      "cell_type": "code",
      "source": [
        "from sklearn.preprocessing import StandardScaler\n",
        "scaler = StandardScaler()\n",
        "x_train = scaler.fit_transform(x_train)\n",
        "x_train"
      ],
      "metadata": {
        "colab": {
          "base_uri": "https://localhost:8080/"
        },
        "id": "B8a9gA6uX_ab",
        "outputId": "7054f12c-e316-43cd-b28f-868fe3104d80"
      },
      "execution_count": null,
      "outputs": [
        {
          "output_type": "execute_result",
          "data": {
            "text/plain": [
              "array([[-1.35679832,  0.72250438,  0.00809909, ...,  0.95390513,\n",
              "        -0.68970073, -0.50904773],\n",
              "       [ 0.38508599,  0.72250438, -0.97189094, ...,  0.95390513,\n",
              "        -0.68970073,  1.17848036],\n",
              "       [-0.92132724,  0.72250438,  0.98808912, ..., -0.69498803,\n",
              "        -0.68970073, -0.50904773],\n",
              "       ...,\n",
              "       [ 1.58263146,  0.72250438,  1.96807914, ..., -0.69498803,\n",
              "         0.32186034, -0.50904773],\n",
              "       [-0.92132724,  0.72250438, -0.97189094, ...,  0.95390513,\n",
              "        -0.68970073,  1.17848036],\n",
              "       [ 0.92942484, -1.38407465,  0.00809909, ...,  0.95390513,\n",
              "         1.33342142, -0.50904773]])"
            ]
          },
          "metadata": {},
          "execution_count": 29
        }
      ]
    },
    {
      "cell_type": "code",
      "source": [
        "x_train, x_test, y_train, y_test = train_test_split(x, y, test_size = 0.20,random_state=42)"
      ],
      "metadata": {
        "id": "s9Nn0eXpX9P4"
      },
      "execution_count": null,
      "outputs": []
    },
    {
      "cell_type": "code",
      "source": [
        "datasets.describe()"
      ],
      "metadata": {
        "colab": {
          "base_uri": "https://localhost:8080/",
          "height": 364
        },
        "id": "tKHalEy_Z_gB",
        "outputId": "2ef48338-1ce8-49ed-f34f-8131329b97fa"
      },
      "execution_count": null,
      "outputs": [
        {
          "output_type": "execute_result",
          "data": {
            "text/plain": [
              "              age         sex          cp    trestbps        chol         fbs  \\\n",
              "count  303.000000  303.000000  303.000000  303.000000  303.000000  303.000000   \n",
              "mean    54.366337    0.683168    0.966997  131.623762  246.264026    0.148515   \n",
              "std      9.082101    0.466011    1.032052   17.538143   51.830751    0.356198   \n",
              "min     29.000000    0.000000    0.000000   94.000000  126.000000    0.000000   \n",
              "25%     47.500000    0.000000    0.000000  120.000000  211.000000    0.000000   \n",
              "50%     55.000000    1.000000    1.000000  130.000000  240.000000    0.000000   \n",
              "75%     61.000000    1.000000    2.000000  140.000000  274.500000    0.000000   \n",
              "max     77.000000    1.000000    3.000000  200.000000  564.000000    1.000000   \n",
              "\n",
              "          restecg     thalach       exang     oldpeak       slope          ca  \\\n",
              "count  303.000000  303.000000  303.000000  303.000000  303.000000  303.000000   \n",
              "mean     0.528053  149.646865    0.326733    1.039604    1.399340    0.729373   \n",
              "std      0.525860   22.905161    0.469794    1.161075    0.616226    1.022606   \n",
              "min      0.000000   71.000000    0.000000    0.000000    0.000000    0.000000   \n",
              "25%      0.000000  133.500000    0.000000    0.000000    1.000000    0.000000   \n",
              "50%      1.000000  153.000000    0.000000    0.800000    1.000000    0.000000   \n",
              "75%      1.000000  166.000000    1.000000    1.600000    2.000000    1.000000   \n",
              "max      2.000000  202.000000    1.000000    6.200000    2.000000    4.000000   \n",
              "\n",
              "             thal      target  \n",
              "count  303.000000  303.000000  \n",
              "mean     2.313531    0.544554  \n",
              "std      0.612277    0.498835  \n",
              "min      0.000000    0.000000  \n",
              "25%      2.000000    0.000000  \n",
              "50%      2.000000    1.000000  \n",
              "75%      3.000000    1.000000  \n",
              "max      3.000000    1.000000  "
            ],
            "text/html": [
              "\n",
              "  <div id=\"df-5f1a4a4c-cf6d-4b6f-96ae-356916e426d6\">\n",
              "    <div class=\"colab-df-container\">\n",
              "      <div>\n",
              "<style scoped>\n",
              "    .dataframe tbody tr th:only-of-type {\n",
              "        vertical-align: middle;\n",
              "    }\n",
              "\n",
              "    .dataframe tbody tr th {\n",
              "        vertical-align: top;\n",
              "    }\n",
              "\n",
              "    .dataframe thead th {\n",
              "        text-align: right;\n",
              "    }\n",
              "</style>\n",
              "<table border=\"1\" class=\"dataframe\">\n",
              "  <thead>\n",
              "    <tr style=\"text-align: right;\">\n",
              "      <th></th>\n",
              "      <th>age</th>\n",
              "      <th>sex</th>\n",
              "      <th>cp</th>\n",
              "      <th>trestbps</th>\n",
              "      <th>chol</th>\n",
              "      <th>fbs</th>\n",
              "      <th>restecg</th>\n",
              "      <th>thalach</th>\n",
              "      <th>exang</th>\n",
              "      <th>oldpeak</th>\n",
              "      <th>slope</th>\n",
              "      <th>ca</th>\n",
              "      <th>thal</th>\n",
              "      <th>target</th>\n",
              "    </tr>\n",
              "  </thead>\n",
              "  <tbody>\n",
              "    <tr>\n",
              "      <th>count</th>\n",
              "      <td>303.000000</td>\n",
              "      <td>303.000000</td>\n",
              "      <td>303.000000</td>\n",
              "      <td>303.000000</td>\n",
              "      <td>303.000000</td>\n",
              "      <td>303.000000</td>\n",
              "      <td>303.000000</td>\n",
              "      <td>303.000000</td>\n",
              "      <td>303.000000</td>\n",
              "      <td>303.000000</td>\n",
              "      <td>303.000000</td>\n",
              "      <td>303.000000</td>\n",
              "      <td>303.000000</td>\n",
              "      <td>303.000000</td>\n",
              "    </tr>\n",
              "    <tr>\n",
              "      <th>mean</th>\n",
              "      <td>54.366337</td>\n",
              "      <td>0.683168</td>\n",
              "      <td>0.966997</td>\n",
              "      <td>131.623762</td>\n",
              "      <td>246.264026</td>\n",
              "      <td>0.148515</td>\n",
              "      <td>0.528053</td>\n",
              "      <td>149.646865</td>\n",
              "      <td>0.326733</td>\n",
              "      <td>1.039604</td>\n",
              "      <td>1.399340</td>\n",
              "      <td>0.729373</td>\n",
              "      <td>2.313531</td>\n",
              "      <td>0.544554</td>\n",
              "    </tr>\n",
              "    <tr>\n",
              "      <th>std</th>\n",
              "      <td>9.082101</td>\n",
              "      <td>0.466011</td>\n",
              "      <td>1.032052</td>\n",
              "      <td>17.538143</td>\n",
              "      <td>51.830751</td>\n",
              "      <td>0.356198</td>\n",
              "      <td>0.525860</td>\n",
              "      <td>22.905161</td>\n",
              "      <td>0.469794</td>\n",
              "      <td>1.161075</td>\n",
              "      <td>0.616226</td>\n",
              "      <td>1.022606</td>\n",
              "      <td>0.612277</td>\n",
              "      <td>0.498835</td>\n",
              "    </tr>\n",
              "    <tr>\n",
              "      <th>min</th>\n",
              "      <td>29.000000</td>\n",
              "      <td>0.000000</td>\n",
              "      <td>0.000000</td>\n",
              "      <td>94.000000</td>\n",
              "      <td>126.000000</td>\n",
              "      <td>0.000000</td>\n",
              "      <td>0.000000</td>\n",
              "      <td>71.000000</td>\n",
              "      <td>0.000000</td>\n",
              "      <td>0.000000</td>\n",
              "      <td>0.000000</td>\n",
              "      <td>0.000000</td>\n",
              "      <td>0.000000</td>\n",
              "      <td>0.000000</td>\n",
              "    </tr>\n",
              "    <tr>\n",
              "      <th>25%</th>\n",
              "      <td>47.500000</td>\n",
              "      <td>0.000000</td>\n",
              "      <td>0.000000</td>\n",
              "      <td>120.000000</td>\n",
              "      <td>211.000000</td>\n",
              "      <td>0.000000</td>\n",
              "      <td>0.000000</td>\n",
              "      <td>133.500000</td>\n",
              "      <td>0.000000</td>\n",
              "      <td>0.000000</td>\n",
              "      <td>1.000000</td>\n",
              "      <td>0.000000</td>\n",
              "      <td>2.000000</td>\n",
              "      <td>0.000000</td>\n",
              "    </tr>\n",
              "    <tr>\n",
              "      <th>50%</th>\n",
              "      <td>55.000000</td>\n",
              "      <td>1.000000</td>\n",
              "      <td>1.000000</td>\n",
              "      <td>130.000000</td>\n",
              "      <td>240.000000</td>\n",
              "      <td>0.000000</td>\n",
              "      <td>1.000000</td>\n",
              "      <td>153.000000</td>\n",
              "      <td>0.000000</td>\n",
              "      <td>0.800000</td>\n",
              "      <td>1.000000</td>\n",
              "      <td>0.000000</td>\n",
              "      <td>2.000000</td>\n",
              "      <td>1.000000</td>\n",
              "    </tr>\n",
              "    <tr>\n",
              "      <th>75%</th>\n",
              "      <td>61.000000</td>\n",
              "      <td>1.000000</td>\n",
              "      <td>2.000000</td>\n",
              "      <td>140.000000</td>\n",
              "      <td>274.500000</td>\n",
              "      <td>0.000000</td>\n",
              "      <td>1.000000</td>\n",
              "      <td>166.000000</td>\n",
              "      <td>1.000000</td>\n",
              "      <td>1.600000</td>\n",
              "      <td>2.000000</td>\n",
              "      <td>1.000000</td>\n",
              "      <td>3.000000</td>\n",
              "      <td>1.000000</td>\n",
              "    </tr>\n",
              "    <tr>\n",
              "      <th>max</th>\n",
              "      <td>77.000000</td>\n",
              "      <td>1.000000</td>\n",
              "      <td>3.000000</td>\n",
              "      <td>200.000000</td>\n",
              "      <td>564.000000</td>\n",
              "      <td>1.000000</td>\n",
              "      <td>2.000000</td>\n",
              "      <td>202.000000</td>\n",
              "      <td>1.000000</td>\n",
              "      <td>6.200000</td>\n",
              "      <td>2.000000</td>\n",
              "      <td>4.000000</td>\n",
              "      <td>3.000000</td>\n",
              "      <td>1.000000</td>\n",
              "    </tr>\n",
              "  </tbody>\n",
              "</table>\n",
              "</div>\n",
              "      <button class=\"colab-df-convert\" onclick=\"convertToInteractive('df-5f1a4a4c-cf6d-4b6f-96ae-356916e426d6')\"\n",
              "              title=\"Convert this dataframe to an interactive table.\"\n",
              "              style=\"display:none;\">\n",
              "        \n",
              "  <svg xmlns=\"http://www.w3.org/2000/svg\" height=\"24px\"viewBox=\"0 0 24 24\"\n",
              "       width=\"24px\">\n",
              "    <path d=\"M0 0h24v24H0V0z\" fill=\"none\"/>\n",
              "    <path d=\"M18.56 5.44l.94 2.06.94-2.06 2.06-.94-2.06-.94-.94-2.06-.94 2.06-2.06.94zm-11 1L8.5 8.5l.94-2.06 2.06-.94-2.06-.94L8.5 2.5l-.94 2.06-2.06.94zm10 10l.94 2.06.94-2.06 2.06-.94-2.06-.94-.94-2.06-.94 2.06-2.06.94z\"/><path d=\"M17.41 7.96l-1.37-1.37c-.4-.4-.92-.59-1.43-.59-.52 0-1.04.2-1.43.59L10.3 9.45l-7.72 7.72c-.78.78-.78 2.05 0 2.83L4 21.41c.39.39.9.59 1.41.59.51 0 1.02-.2 1.41-.59l7.78-7.78 2.81-2.81c.8-.78.8-2.07 0-2.86zM5.41 20L4 18.59l7.72-7.72 1.47 1.35L5.41 20z\"/>\n",
              "  </svg>\n",
              "      </button>\n",
              "      \n",
              "  <style>\n",
              "    .colab-df-container {\n",
              "      display:flex;\n",
              "      flex-wrap:wrap;\n",
              "      gap: 12px;\n",
              "    }\n",
              "\n",
              "    .colab-df-convert {\n",
              "      background-color: #E8F0FE;\n",
              "      border: none;\n",
              "      border-radius: 50%;\n",
              "      cursor: pointer;\n",
              "      display: none;\n",
              "      fill: #1967D2;\n",
              "      height: 32px;\n",
              "      padding: 0 0 0 0;\n",
              "      width: 32px;\n",
              "    }\n",
              "\n",
              "    .colab-df-convert:hover {\n",
              "      background-color: #E2EBFA;\n",
              "      box-shadow: 0px 1px 2px rgba(60, 64, 67, 0.3), 0px 1px 3px 1px rgba(60, 64, 67, 0.15);\n",
              "      fill: #174EA6;\n",
              "    }\n",
              "\n",
              "    [theme=dark] .colab-df-convert {\n",
              "      background-color: #3B4455;\n",
              "      fill: #D2E3FC;\n",
              "    }\n",
              "\n",
              "    [theme=dark] .colab-df-convert:hover {\n",
              "      background-color: #434B5C;\n",
              "      box-shadow: 0px 1px 3px 1px rgba(0, 0, 0, 0.15);\n",
              "      filter: drop-shadow(0px 1px 2px rgba(0, 0, 0, 0.3));\n",
              "      fill: #FFFFFF;\n",
              "    }\n",
              "  </style>\n",
              "\n",
              "      <script>\n",
              "        const buttonEl =\n",
              "          document.querySelector('#df-5f1a4a4c-cf6d-4b6f-96ae-356916e426d6 button.colab-df-convert');\n",
              "        buttonEl.style.display =\n",
              "          google.colab.kernel.accessAllowed ? 'block' : 'none';\n",
              "\n",
              "        async function convertToInteractive(key) {\n",
              "          const element = document.querySelector('#df-5f1a4a4c-cf6d-4b6f-96ae-356916e426d6');\n",
              "          const dataTable =\n",
              "            await google.colab.kernel.invokeFunction('convertToInteractive',\n",
              "                                                     [key], {});\n",
              "          if (!dataTable) return;\n",
              "\n",
              "          const docLinkHtml = 'Like what you see? Visit the ' +\n",
              "            '<a target=\"_blank\" href=https://colab.research.google.com/notebooks/data_table.ipynb>data table notebook</a>'\n",
              "            + ' to learn more about interactive tables.';\n",
              "          element.innerHTML = '';\n",
              "          dataTable['output_type'] = 'display_data';\n",
              "          await google.colab.output.renderOutput(dataTable, element);\n",
              "          const docLink = document.createElement('div');\n",
              "          docLink.innerHTML = docLinkHtml;\n",
              "          element.appendChild(docLink);\n",
              "        }\n",
              "      </script>\n",
              "    </div>\n",
              "  </div>\n",
              "  "
            ]
          },
          "metadata": {},
          "execution_count": 30
        }
      ]
    },
    {
      "cell_type": "code",
      "source": [
        "datasets.shape"
      ],
      "metadata": {
        "colab": {
          "base_uri": "https://localhost:8080/"
        },
        "id": "76RhOHRIWssz",
        "outputId": "62510fea-da69-47e2-b248-305eb08796cd"
      },
      "execution_count": null,
      "outputs": [
        {
          "output_type": "execute_result",
          "data": {
            "text/plain": [
              "(303, 14)"
            ]
          },
          "metadata": {},
          "execution_count": 31
        }
      ]
    },
    {
      "cell_type": "code",
      "source": [
        "x_test = scaler.transform(x_test)\n",
        "x_test"
      ],
      "metadata": {
        "colab": {
          "base_uri": "https://localhost:8080/"
        },
        "id": "unqiThw0YwWZ",
        "outputId": "8ab1359e-0c27-4693-ca27-a8539c532d18"
      },
      "execution_count": null,
      "outputs": [
        {
          "output_type": "execute_result",
          "data": {
            "text/plain": [
              "array([[ 2.76218225e-01,  7.22504380e-01, -9.71890936e-01,\n",
              "         1.16949120e+00,  5.53408401e-01, -3.83300706e-01,\n",
              "        -1.04610909e+00, -1.70875171e+00,  1.47790748e+00,\n",
              "        -3.75556294e-01, -6.94988026e-01,  3.21860343e-01,\n",
              "        -2.19657581e+00],\n",
              "       [ 4.93953764e-01,  7.22504380e-01,  1.96807914e+00,\n",
              "         2.36038903e+00,  7.81171723e-01, -3.83300706e-01,\n",
              "        -1.04610909e+00,  3.98288831e-01, -6.76632341e-01,\n",
              "        -7.39094787e-01, -6.94988026e-01, -6.89700735e-01,\n",
              "         1.17848036e+00],\n",
              "       [ 2.76218225e-01,  7.22504380e-01,  9.88089118e-01,\n",
              "         1.16949120e+00, -2.29363312e+00,  2.60891771e+00,\n",
              "         8.43132697e-01,  1.02591793e+00, -6.76632341e-01,\n",
              "        -7.39094787e-01,  9.53905134e-01,  3.21860343e-01,\n",
              "         1.17848036e+00],\n",
              "       [ 1.67350456e-01, -1.38407465e+00, -9.71890936e-01,\n",
              "         2.16772932e-01,  3.07778522e+00, -3.83300706e-01,\n",
              "        -1.04610909e+00, -5.18701733e-03,  1.47790748e+00,\n",
              "         8.05943807e-01, -6.94988026e-01,  1.33342142e+00,\n",
              "         1.17848036e+00],\n",
              "       [ 1.80036700e+00, -1.38407465e+00,  9.88089118e-01,\n",
              "        -1.21230447e+00,  3.44625356e-01,  2.60891771e+00,\n",
              "        -1.04610909e+00, -9.01800013e-01, -6.76632341e-01,\n",
              "        -9.20864033e-01,  9.53905134e-01,  3.21860343e-01,\n",
              "        -5.09047728e-01],\n",
              "       [ 2.76218225e-01,  7.22504380e-01,  9.88089118e-01,\n",
              "         1.16949120e+00, -1.49646149e+00, -3.83300706e-01,\n",
              "         8.43132697e-01,  1.07074858e+00, -6.76632341e-01,\n",
              "         5.33289937e-01,  9.53905134e-01, -6.89700735e-01,\n",
              "        -5.09047728e-01],\n",
              "       [-9.21327240e-01, -1.38407465e+00, -9.71890936e-01,\n",
              "         4.54952499e-01, -7.29407332e-02, -3.83300706e-01,\n",
              "        -1.04610909e+00,  8.44742822e-02,  1.47790748e+00,\n",
              "        -9.20864033e-01, -6.94988026e-01, -6.89700735e-01,\n",
              "        -5.09047728e-01],\n",
              "       [ 1.67350456e-01, -1.38407465e+00, -9.71890936e-01,\n",
              "         4.14673578e+00,  7.81171723e-01,  2.60891771e+00,\n",
              "        -1.04610909e+00, -7.67308064e-01,  1.47790748e+00,\n",
              "         2.71452089e+00, -2.34388119e+00,  1.33342142e+00,\n",
              "         1.17848036e+00],\n",
              "       [-5.03850834e-02,  7.22504380e-01, -9.71890936e-01,\n",
              "        -4.97765768e-01,  7.43211169e-01, -3.83300706e-01,\n",
              "        -1.04610909e+00, -1.52942911e+00,  1.47790748e+00,\n",
              "         1.98744391e+00, -6.94988026e-01,  1.33342142e+00,\n",
              "        -5.09047728e-01],\n",
              "       [-5.03850834e-02,  7.22504380e-01,  9.88089118e-01,\n",
              "        -3.19131093e-01,  4.96467571e-01, -3.83300706e-01,\n",
              "        -1.04610909e+00,  8.44742822e-02, -6.76632341e-01,\n",
              "        -4.66440917e-01, -2.34388119e+00,  3.21860343e-01,\n",
              "        -5.09047728e-01],\n",
              "       [ 2.76218225e-01,  7.22504380e-01, -9.71890936e-01,\n",
              "         5.74042282e-01, -1.04093485e+00, -3.83300706e-01,\n",
              "         8.43132697e-01, -9.48483169e-02, -6.76632341e-01,\n",
              "        -5.57325540e-01, -6.94988026e-01, -6.89700735e-01,\n",
              "        -2.19657581e+00],\n",
              "       [ 4.93953764e-01,  7.22504380e-01,  1.96807914e+00,\n",
              "         2.83674817e+00,  4.39526740e-01, -3.83300706e-01,\n",
              "        -1.04610909e+00, -2.29340266e-01, -6.76632341e-01,\n",
              "         2.89629014e+00, -2.34388119e+00, -6.89700735e-01,\n",
              "         1.17848036e+00],\n",
              "       [-2.68120623e-01,  7.22504380e-01,  8.09909113e-03,\n",
              "        -6.16855552e-01,  1.48344196e+00, -3.83300706e-01,\n",
              "         8.43132697e-01,  9.81087278e-01, -6.76632341e-01,\n",
              "        -7.39094787e-01,  9.53905134e-01, -6.89700735e-01,\n",
              "        -5.09047728e-01],\n",
              "       [-1.57453386e+00,  7.22504380e-01, -9.71890936e-01,\n",
              "        -1.21230447e+00, -1.51544177e+00, -3.83300706e-01,\n",
              "        -1.04610909e+00, -1.61909041e+00,  1.47790748e+00,\n",
              "         8.96828430e-01, -6.94988026e-01, -6.89700735e-01,\n",
              "         1.17848036e+00],\n",
              "       [-9.21327240e-01, -1.38407465e+00,  8.09909113e-03,\n",
              "        -1.51002893e+00, -8.13171528e-01, -3.83300706e-01,\n",
              "         8.43132697e-01,  9.81087278e-01, -6.76632341e-01,\n",
              "        -9.20864033e-01,  9.53905134e-01, -6.89700735e-01,\n",
              "        -5.09047728e-01],\n",
              "       [-1.13906278e+00,  7.22504380e-01,  9.88089118e-01,\n",
              "         5.74042282e-01, -2.24782948e-01, -3.83300706e-01,\n",
              "        -1.04610909e+00,  1.33973248e+00, -6.76632341e-01,\n",
              "        -9.20864033e-01,  9.53905134e-01, -6.89700735e-01,\n",
              "        -5.09047728e-01],\n",
              "       [-2.22774047e+00, -1.38407465e+00,  8.09909113e-03,\n",
              "        -7.35945335e-01, -6.99289868e-01, -3.83300706e-01,\n",
              "         8.43132697e-01,  1.87770027e+00, -6.76632341e-01,\n",
              "        -2.84671671e-01,  9.53905134e-01, -6.89700735e-01,\n",
              "        -5.09047728e-01],\n",
              "       [-5.03850834e-02,  7.22504380e-01, -9.71890936e-01,\n",
              "        -6.16855552e-01, -1.11685596e+00, -3.83300706e-01,\n",
              "         8.43132697e-01, -1.66392106e+00, -6.76632341e-01,\n",
              "         3.51520691e-01, -6.94988026e-01,  3.21860343e-01,\n",
              "         1.17848036e+00],\n",
              "       [-9.21327240e-01,  7.22504380e-01, -9.71890936e-01,\n",
              "         5.74042282e-01,  1.21771809e+00, -3.83300706e-01,\n",
              "         8.43132697e-01, -1.35010651e+00,  1.47790748e+00,\n",
              "         7.15059184e-01, -6.94988026e-01,  1.33342142e+00,\n",
              "         1.17848036e+00],\n",
              "       [ 7.11689304e-01,  7.22504380e-01, -9.71890936e-01,\n",
              "         4.54952499e-01, -1.53442205e+00, -3.83300706e-01,\n",
              "        -1.04610909e+00, -1.12595326e+00,  1.47790748e+00,\n",
              "         2.35098240e+00, -6.94988026e-01,  3.21860343e-01,\n",
              "        -5.09047728e-01],\n",
              "       [ 1.03829261e+00,  7.22504380e-01,  1.96807914e+00,\n",
              "         2.36038903e+00, -3.76625162e-01, -3.83300706e-01,\n",
              "        -1.04610909e+00,  2.18966232e-01, -6.76632341e-01,\n",
              "        -3.75556294e-01, -6.94988026e-01, -6.89700735e-01,\n",
              "         1.17848036e+00],\n",
              "       [ 1.67350456e-01,  7.22504380e-01, -9.71890936e-01,\n",
              "        -2.14066346e-02,  6.86270339e-01,  2.60891771e+00,\n",
              "        -1.04610909e+00, -2.11222756e+00,  1.47790748e+00,\n",
              "         5.33289937e-01, -2.34388119e+00, -6.89700735e-01,\n",
              "         1.17848036e+00],\n",
              "       [ 1.36489592e+00,  7.22504380e-01, -9.71890936e-01,\n",
              "        -6.16855552e-01, -1.86822394e-01, -3.83300706e-01,\n",
              "         8.43132697e-01, -3.54680835e+00, -6.76632341e-01,\n",
              "        -1.20178014e-02, -6.94988026e-01, -6.89700735e-01,\n",
              "        -5.09047728e-01],\n",
              "       [ 1.80036700e+00, -1.38407465e+00,  8.09909113e-03,\n",
              "         1.76494012e+00,  1.04689560e+00, -3.83300706e-01,\n",
              "         8.43132697e-01,  5.32780780e-01, -6.76632341e-01,\n",
              "        -5.57325540e-01,  9.53905134e-01,  1.33342142e+00,\n",
              "        -5.09047728e-01],\n",
              "       [-1.13906278e+00, -1.38407465e+00,  9.88089118e-01,\n",
              "        -7.35945335e-01, -9.19210100e-02, -3.83300706e-01,\n",
              "         8.43132697e-01, -5.00176671e-02, -6.76632341e-01,\n",
              "        -6.48210163e-01, -6.94988026e-01,  3.21860343e-01,\n",
              "        -5.09047728e-01],\n",
              "       [-1.57453386e+00,  7.22504380e-01, -9.71890936e-01,\n",
              "         1.28858098e+00, -4.52546269e-01, -3.83300706e-01,\n",
              "         8.43132697e-01,  1.38456313e+00, -6.76632341e-01,\n",
              "        -9.20864033e-01,  9.53905134e-01, -6.89700735e-01,\n",
              "         1.17848036e+00],\n",
              "       [ 4.93953764e-01,  7.22504380e-01,  1.96807914e+00,\n",
              "         1.76494012e+00,  4.96467571e-01, -3.83300706e-01,\n",
              "        -1.04610909e+00, -1.12595326e+00, -6.76632341e-01,\n",
              "        -9.20864033e-01,  9.53905134e-01, -6.89700735e-01,\n",
              "        -5.09047728e-01],\n",
              "       [-3.76988392e-01,  7.22504380e-01, -9.71890936e-01,\n",
              "         5.74042282e-01,  2.68704249e-01, -3.83300706e-01,\n",
              "        -1.04610909e+00,  1.60871637e+00,  1.47790748e+00,\n",
              "        -9.20864033e-01,  9.53905134e-01, -6.89700735e-01,\n",
              "        -5.09047728e-01],\n",
              "       [ 2.76218225e-01,  7.22504380e-01, -9.71890936e-01,\n",
              "         2.06266458e+00,  8.00152000e-01,  2.60891771e+00,\n",
              "        -1.04610909e+00, -1.17078391e+00, -6.76632341e-01,\n",
              "        -1.20178014e-02, -6.94988026e-01,  2.34498250e+00,\n",
              "         1.17848036e+00],\n",
              "       [-4.85856162e-01, -1.38407465e+00, -9.71890936e-01,\n",
              "        -1.21230447e+00,  1.35842312e-01, -3.83300706e-01,\n",
              "        -1.04610909e+00,  3.98288831e-01, -6.76632341e-01,\n",
              "        -9.20864033e-01,  9.53905134e-01, -6.89700735e-01,\n",
              "        -5.09047728e-01],\n",
              "       [ 1.03829261e+00,  7.22504380e-01, -9.71890936e-01,\n",
              "        -1.40496418e-01,  3.06664803e-01, -3.83300706e-01,\n",
              "         8.43132697e-01, -2.02256626e+00,  1.47790748e+00,\n",
              "        -7.39094787e-01, -6.94988026e-01,  3.21860343e-01,\n",
              "         1.17848036e+00],\n",
              "       [ 7.11689304e-01,  7.22504380e-01, -9.71890936e-01,\n",
              "         5.74042282e-01, -7.56230698e-01, -3.83300706e-01,\n",
              "        -1.04610909e+00, -5.43154815e-01,  1.47790748e+00,\n",
              "         8.05943807e-01,  9.53905134e-01,  3.21860343e-01,\n",
              "         1.17848036e+00],\n",
              "       [ 8.20557073e-01,  7.22504380e-01, -9.71890936e-01,\n",
              "        -6.16855552e-01,  3.82585910e-01, -3.83300706e-01,\n",
              "         8.43132697e-01, -2.29155016e+00,  1.47790748e+00,\n",
              "         7.15059184e-01, -6.94988026e-01,  1.33342142e+00,\n",
              "         1.17848036e+00],\n",
              "       [-1.03019501e+00,  7.22504380e-01, -9.71890936e-01,\n",
              "        -1.56957382e+00, -7.37250421e-01, -3.83300706e-01,\n",
              "        -1.04610909e+00, -9.48483169e-02,  1.47790748e+00,\n",
              "         1.80567466e+00, -6.94988026e-01, -6.89700735e-01,\n",
              "        -5.09047728e-01],\n",
              "       [ 1.25602815e+00, -1.38407465e+00,  1.96807914e+00,\n",
              "         1.16949120e+00, -3.95605439e-01, -3.83300706e-01,\n",
              "         8.43132697e-01, -1.61909041e+00, -6.76632341e-01,\n",
              "         1.44213617e+00, -2.34388119e+00, -6.89700735e-01,\n",
              "        -5.09047728e-01],\n",
              "       [ 9.29424843e-01,  7.22504380e-01, -9.71890936e-01,\n",
              "        -2.14066346e-02,  1.35842312e-01, -3.83300706e-01,\n",
              "        -1.04610909e+00, -1.39678967e-01, -6.76632341e-01,\n",
              "         3.51520691e-01, -6.94988026e-01,  3.21860343e-01,\n",
              "         1.17848036e+00],\n",
              "       [-3.76988392e-01,  7.22504380e-01,  9.88089118e-01,\n",
              "        -3.19131093e-01, -3.49801796e-02,  2.60891771e+00,\n",
              "        -1.04610909e+00,  7.12103379e-01, -6.76632341e-01,\n",
              "         1.26036692e+00, -6.94988026e-01, -6.89700735e-01,\n",
              "        -5.09047728e-01],\n",
              "       [-7.03591701e-01,  7.22504380e-01,  9.88089118e-01,\n",
              "        -3.78675985e-01,  1.54822588e-01,  2.60891771e+00,\n",
              "         8.43132697e-01,  1.11557923e+00, -6.76632341e-01,\n",
              "        -9.20864033e-01,  9.53905134e-01,  1.33342142e+00,\n",
              "        -5.09047728e-01],\n",
              "       [-1.57453386e+00,  7.22504380e-01,  1.96807914e+00,\n",
              "         5.74042282e-01, -9.08072912e-01, -3.83300706e-01,\n",
              "         8.43132697e-01,  1.25007118e+00,  1.47790748e+00,\n",
              "         3.51520691e-01,  9.53905134e-01, -6.89700735e-01,\n",
              "         1.17848036e+00],\n",
              "       [-1.03019501e+00,  7.22504380e-01, -9.71890936e-01,\n",
              "        -9.14580010e-01,  2.49723972e-01, -3.83300706e-01,\n",
              "        -1.04610909e+00,  1.56388572e+00, -6.76632341e-01,\n",
              "        -9.20864033e-01,  9.53905134e-01, -6.89700735e-01,\n",
              "        -5.09047728e-01],\n",
              "       [-2.68120623e-01,  7.22504380e-01,  9.88089118e-01,\n",
              "         4.54952499e-01, -4.52546269e-01, -3.83300706e-01,\n",
              "         8.43132697e-01,  8.46595328e-01, -6.76632341e-01,\n",
              "        -9.20864033e-01,  9.53905134e-01,  3.35654358e+00,\n",
              "        -5.09047728e-01],\n",
              "       [ 4.93953764e-01,  7.22504380e-01,  8.09909113e-03,\n",
              "         5.74042282e-01, -4.90506823e-01, -3.83300706e-01,\n",
              "         8.43132697e-01,  6.22442080e-01,  1.47790748e+00,\n",
              "        -9.20864033e-01,  9.53905134e-01, -6.89700735e-01,\n",
              "        -5.09047728e-01],\n",
              "       [ 8.20557073e-01,  7.22504380e-01,  8.09909113e-03,\n",
              "        -1.40496418e-01, -7.37250421e-01,  2.60891771e+00,\n",
              "        -1.04610909e+00, -4.53493515e-01, -6.76632341e-01,\n",
              "        -9.20864033e-01,  9.53905134e-01, -6.89700735e-01,\n",
              "        -5.09047728e-01],\n",
              "       [-1.46566609e+00,  7.22504380e-01,  9.88089118e-01,\n",
              "        -2.14066346e-02, -6.23368760e-01, -3.83300706e-01,\n",
              "        -1.04610909e+00,  8.01764679e-01, -6.76632341e-01,\n",
              "         8.96828430e-01, -6.94988026e-01, -6.89700735e-01,\n",
              "        -5.09047728e-01],\n",
              "       [-1.13906278e+00,  7.22504380e-01,  8.09909113e-03,\n",
              "        -6.16855552e-01,  3.06664803e-01, -3.83300706e-01,\n",
              "         8.43132697e-01,  1.02591793e+00, -6.76632341e-01,\n",
              "        -9.20864033e-01,  9.53905134e-01, -6.89700735e-01,\n",
              "         1.17848036e+00],\n",
              "       [-1.24793055e+00,  7.22504380e-01, -9.71890936e-01,\n",
              "         9.76831488e-02,  2.98037404e-03,  2.60891771e+00,\n",
              "        -1.04610909e+00, -3.19001566e-01,  1.47790748e+00,\n",
              "        -8.29979410e-01, -6.94988026e-01,  3.35654358e+00,\n",
              "         1.17848036e+00],\n",
              "       [-2.68120623e-01,  7.22504380e-01, -9.71890936e-01,\n",
              "        -1.40496418e-01, -8.13171528e-01,  2.60891771e+00,\n",
              "         8.43132697e-01,  2.63796881e-01,  1.47790748e+00,\n",
              "        -1.20178014e-02, -6.94988026e-01, -6.89700735e-01,\n",
              "        -3.88410390e+00],\n",
              "       [-2.68120623e-01,  7.22504380e-01,  8.09909113e-03,\n",
              "        -1.40496418e-01, -7.94191252e-01,  2.60891771e+00,\n",
              "         8.43132697e-01,  1.51905508e+00, -6.76632341e-01,\n",
              "        -9.20864033e-01,  9.53905134e-01, -6.89700735e-01,\n",
              "        -5.09047728e-01],\n",
              "       [ 3.85085995e-01, -1.38407465e+00, -9.71890936e-01,\n",
              "         2.36038903e+00, -4.14585716e-01,  2.60891771e+00,\n",
              "        -1.04610909e+00, -1.84509616e-01,  1.47790748e+00,\n",
              "         1.62390542e+00, -6.94988026e-01,  1.33342142e+00,\n",
              "        -2.19657581e+00],\n",
              "       [ 5.84826861e-02,  7.22504380e-01, -9.71890936e-01,\n",
              "         1.76494012e+00,  8.00152000e-01, -3.83300706e-01,\n",
              "        -1.04610909e+00, -2.29340266e-01,  1.47790748e+00,\n",
              "        -1.93787048e-01, -6.94988026e-01,  3.21860343e-01,\n",
              "         1.17848036e+00],\n",
              "       [-7.03591701e-01,  7.22504380e-01, -9.71890936e-01,\n",
              "        -2.14066346e-02,  1.73802865e-01,  2.60891771e+00,\n",
              "        -1.04610909e+00, -5.18701733e-03,  1.47790748e+00,\n",
              "        -9.20864033e-01,  9.53905134e-01,  1.33342142e+00,\n",
              "         1.17848036e+00],\n",
              "       [-1.03019501e+00,  7.22504380e-01, -9.71890936e-01,\n",
              "         6.93132066e-01,  1.17975754e+00, -3.83300706e-01,\n",
              "        -1.04610909e+00, -1.39678967e-01,  1.47790748e+00,\n",
              "        -9.20864033e-01, -6.94988026e-01,  2.34498250e+00,\n",
              "         1.17848036e+00],\n",
              "       [-1.46566609e+00,  7.22504380e-01,  8.09909113e-03,\n",
              "         2.76317824e-01, -8.32151805e-01, -3.83300706e-01,\n",
              "         8.43132697e-01, -8.12138713e-01, -6.76632341e-01,\n",
              "        -9.20864033e-01, -6.94988026e-01, -6.89700735e-01,\n",
              "        -2.19657581e+00],\n",
              "       [ 6.02821534e-01, -1.38407465e+00,  9.88089118e-01,\n",
              "        -1.68866360e+00,  1.35058003e+00, -3.83300706e-01,\n",
              "         8.43132697e-01,  4.43119480e-01, -6.76632341e-01,\n",
              "        -9.20864033e-01,  9.53905134e-01,  3.21860343e-01,\n",
              "        -5.09047728e-01],\n",
              "       [ 3.85085995e-01,  7.22504380e-01, -9.71890936e-01,\n",
              "        -3.19131093e-01,  1.00893504e+00, -3.83300706e-01,\n",
              "        -1.04610909e+00,  9.36256628e-01, -6.76632341e-01,\n",
              "        -9.20864033e-01,  9.53905134e-01,  1.33342142e+00,\n",
              "         1.17848036e+00],\n",
              "       [ 8.20557073e-01, -1.38407465e+00, -9.71890936e-01,\n",
              "         1.76494012e+00, -1.57238260e+00, -3.83300706e-01,\n",
              "        -1.04610909e+00, -2.29340266e-01, -6.76632341e-01,\n",
              "         4.71398260e+00, -2.34388119e+00,  2.34498250e+00,\n",
              "         1.17848036e+00],\n",
              "       [ 1.58263146e+00,  7.22504380e-01,  9.88089118e-01,\n",
              "         5.74042282e-01,  1.35842312e-01, -3.83300706e-01,\n",
              "        -1.04610909e+00, -1.84509616e-01, -6.76632341e-01,\n",
              "         8.96828430e-01, -6.94988026e-01,  2.34498250e+00,\n",
              "         1.17848036e+00],\n",
              "       [-4.85856162e-01,  7.22504380e-01,  9.88089118e-01,\n",
              "        -8.09515263e-02, -9.65013743e-01, -3.83300706e-01,\n",
              "         8.43132697e-01,  5.77611430e-01, -6.76632341e-01,\n",
              "        -9.20864033e-01,  9.53905134e-01, -6.89700735e-01,\n",
              "        -5.09047728e-01],\n",
              "       [ 1.47376369e+00,  7.22504380e-01, -9.71890936e-01,\n",
              "         8.12221849e-01, -1.02195457e+00,  2.60891771e+00,\n",
              "         8.43132697e-01, -4.08662865e-01, -6.76632341e-01,\n",
              "         2.16921315e+00, -6.94988026e-01,  1.33342142e+00,\n",
              "         1.17848036e+00],\n",
              "       [ 6.02821534e-01,  7.22504380e-01, -9.71890936e-01,\n",
              "         8.71766741e-01,  6.67290062e-01, -3.83300706e-01,\n",
              "        -1.04610909e+00, -3.63832216e-01,  1.47790748e+00,\n",
              "         1.62390542e+00, -6.94988026e-01,  1.33342142e+00,\n",
              "         1.17848036e+00],\n",
              "       [-4.85856162e-01,  7.22504380e-01, -9.71890936e-01,\n",
              "         1.16949120e+00, -7.29407332e-02, -3.83300706e-01,\n",
              "        -1.04610909e+00, -9.91461312e-01, -6.76632341e-01,\n",
              "         1.44213617e+00, -6.94988026e-01, -6.89700735e-01,\n",
              "         1.17848036e+00]])"
            ]
          },
          "metadata": {},
          "execution_count": 32
        }
      ]
    },
    {
      "cell_type": "markdown",
      "source": [
        "# 4.Classification Task"
      ],
      "metadata": {
        "id": "7E0-wD-mP5CI"
      }
    },
    {
      "cell_type": "code",
      "source": [
        "from sklearn.linear_model import LogisticRegression\n",
        "from sklearn.model_selection import train_test_split"
      ],
      "metadata": {
        "id": "jfJlBjOuShCk"
      },
      "execution_count": null,
      "outputs": []
    },
    {
      "cell_type": "code",
      "source": [
        "lr = LogisticRegression()\n",
        "lr.fit(x_train, y_train)"
      ],
      "metadata": {
        "id": "BeKW2MQWaD_5",
        "colab": {
          "base_uri": "https://localhost:8080/"
        },
        "outputId": "6e0f52cc-7e2c-4014-8e91-0aa8fa47f9ab"
      },
      "execution_count": null,
      "outputs": [
        {
          "output_type": "execute_result",
          "data": {
            "text/plain": [
              "LogisticRegression()"
            ]
          },
          "metadata": {},
          "execution_count": 33
        }
      ]
    },
    {
      "cell_type": "code",
      "source": [
        "lr_pred = lr.predict(x_test)\n",
        "pd.DataFrame(np.c_[y_test,lr_pred],columns=['Actual','Predicted']).head(7)"
      ],
      "metadata": {
        "colab": {
          "base_uri": "https://localhost:8080/",
          "height": 269
        },
        "id": "vwVDIt77Y8ed",
        "outputId": "2afdc586-bdc1-4b6d-cee6-2aa4d370aac4"
      },
      "execution_count": null,
      "outputs": [
        {
          "output_type": "execute_result",
          "data": {
            "text/plain": [
              "   Actual  Predicted\n",
              "0       0          0\n",
              "1       0          1\n",
              "2       1          1\n",
              "3       0          0\n",
              "4       1          1\n",
              "5       1          1\n",
              "6       1          1"
            ],
            "text/html": [
              "\n",
              "  <div id=\"df-ce7f9f22-6bb1-498e-92dc-a7d822db4c5c\">\n",
              "    <div class=\"colab-df-container\">\n",
              "      <div>\n",
              "<style scoped>\n",
              "    .dataframe tbody tr th:only-of-type {\n",
              "        vertical-align: middle;\n",
              "    }\n",
              "\n",
              "    .dataframe tbody tr th {\n",
              "        vertical-align: top;\n",
              "    }\n",
              "\n",
              "    .dataframe thead th {\n",
              "        text-align: right;\n",
              "    }\n",
              "</style>\n",
              "<table border=\"1\" class=\"dataframe\">\n",
              "  <thead>\n",
              "    <tr style=\"text-align: right;\">\n",
              "      <th></th>\n",
              "      <th>Actual</th>\n",
              "      <th>Predicted</th>\n",
              "    </tr>\n",
              "  </thead>\n",
              "  <tbody>\n",
              "    <tr>\n",
              "      <th>0</th>\n",
              "      <td>0</td>\n",
              "      <td>0</td>\n",
              "    </tr>\n",
              "    <tr>\n",
              "      <th>1</th>\n",
              "      <td>0</td>\n",
              "      <td>1</td>\n",
              "    </tr>\n",
              "    <tr>\n",
              "      <th>2</th>\n",
              "      <td>1</td>\n",
              "      <td>1</td>\n",
              "    </tr>\n",
              "    <tr>\n",
              "      <th>3</th>\n",
              "      <td>0</td>\n",
              "      <td>0</td>\n",
              "    </tr>\n",
              "    <tr>\n",
              "      <th>4</th>\n",
              "      <td>1</td>\n",
              "      <td>1</td>\n",
              "    </tr>\n",
              "    <tr>\n",
              "      <th>5</th>\n",
              "      <td>1</td>\n",
              "      <td>1</td>\n",
              "    </tr>\n",
              "    <tr>\n",
              "      <th>6</th>\n",
              "      <td>1</td>\n",
              "      <td>1</td>\n",
              "    </tr>\n",
              "  </tbody>\n",
              "</table>\n",
              "</div>\n",
              "      <button class=\"colab-df-convert\" onclick=\"convertToInteractive('df-ce7f9f22-6bb1-498e-92dc-a7d822db4c5c')\"\n",
              "              title=\"Convert this dataframe to an interactive table.\"\n",
              "              style=\"display:none;\">\n",
              "        \n",
              "  <svg xmlns=\"http://www.w3.org/2000/svg\" height=\"24px\"viewBox=\"0 0 24 24\"\n",
              "       width=\"24px\">\n",
              "    <path d=\"M0 0h24v24H0V0z\" fill=\"none\"/>\n",
              "    <path d=\"M18.56 5.44l.94 2.06.94-2.06 2.06-.94-2.06-.94-.94-2.06-.94 2.06-2.06.94zm-11 1L8.5 8.5l.94-2.06 2.06-.94-2.06-.94L8.5 2.5l-.94 2.06-2.06.94zm10 10l.94 2.06.94-2.06 2.06-.94-2.06-.94-.94-2.06-.94 2.06-2.06.94z\"/><path d=\"M17.41 7.96l-1.37-1.37c-.4-.4-.92-.59-1.43-.59-.52 0-1.04.2-1.43.59L10.3 9.45l-7.72 7.72c-.78.78-.78 2.05 0 2.83L4 21.41c.39.39.9.59 1.41.59.51 0 1.02-.2 1.41-.59l7.78-7.78 2.81-2.81c.8-.78.8-2.07 0-2.86zM5.41 20L4 18.59l7.72-7.72 1.47 1.35L5.41 20z\"/>\n",
              "  </svg>\n",
              "      </button>\n",
              "      \n",
              "  <style>\n",
              "    .colab-df-container {\n",
              "      display:flex;\n",
              "      flex-wrap:wrap;\n",
              "      gap: 12px;\n",
              "    }\n",
              "\n",
              "    .colab-df-convert {\n",
              "      background-color: #E8F0FE;\n",
              "      border: none;\n",
              "      border-radius: 50%;\n",
              "      cursor: pointer;\n",
              "      display: none;\n",
              "      fill: #1967D2;\n",
              "      height: 32px;\n",
              "      padding: 0 0 0 0;\n",
              "      width: 32px;\n",
              "    }\n",
              "\n",
              "    .colab-df-convert:hover {\n",
              "      background-color: #E2EBFA;\n",
              "      box-shadow: 0px 1px 2px rgba(60, 64, 67, 0.3), 0px 1px 3px 1px rgba(60, 64, 67, 0.15);\n",
              "      fill: #174EA6;\n",
              "    }\n",
              "\n",
              "    [theme=dark] .colab-df-convert {\n",
              "      background-color: #3B4455;\n",
              "      fill: #D2E3FC;\n",
              "    }\n",
              "\n",
              "    [theme=dark] .colab-df-convert:hover {\n",
              "      background-color: #434B5C;\n",
              "      box-shadow: 0px 1px 3px 1px rgba(0, 0, 0, 0.15);\n",
              "      filter: drop-shadow(0px 1px 2px rgba(0, 0, 0, 0.3));\n",
              "      fill: #FFFFFF;\n",
              "    }\n",
              "  </style>\n",
              "\n",
              "      <script>\n",
              "        const buttonEl =\n",
              "          document.querySelector('#df-ce7f9f22-6bb1-498e-92dc-a7d822db4c5c button.colab-df-convert');\n",
              "        buttonEl.style.display =\n",
              "          google.colab.kernel.accessAllowed ? 'block' : 'none';\n",
              "\n",
              "        async function convertToInteractive(key) {\n",
              "          const element = document.querySelector('#df-ce7f9f22-6bb1-498e-92dc-a7d822db4c5c');\n",
              "          const dataTable =\n",
              "            await google.colab.kernel.invokeFunction('convertToInteractive',\n",
              "                                                     [key], {});\n",
              "          if (!dataTable) return;\n",
              "\n",
              "          const docLinkHtml = 'Like what you see? Visit the ' +\n",
              "            '<a target=\"_blank\" href=https://colab.research.google.com/notebooks/data_table.ipynb>data table notebook</a>'\n",
              "            + ' to learn more about interactive tables.';\n",
              "          element.innerHTML = '';\n",
              "          dataTable['output_type'] = 'display_data';\n",
              "          await google.colab.output.renderOutput(dataTable, element);\n",
              "          const docLink = document.createElement('div');\n",
              "          docLink.innerHTML = docLinkHtml;\n",
              "          element.appendChild(docLink);\n",
              "        }\n",
              "      </script>\n",
              "    </div>\n",
              "  </div>\n",
              "  "
            ]
          },
          "metadata": {},
          "execution_count": 34
        }
      ]
    },
    {
      "cell_type": "code",
      "source": [
        "# Y Prediction\n",
        "y_pred = lr.predict(x_test)"
      ],
      "metadata": {
        "id": "i1zUu8C1ZHwI"
      },
      "execution_count": null,
      "outputs": []
    },
    {
      "cell_type": "code",
      "source": [
        "# Using confusion_matrix\n",
        "# Determining true positive, true negative, false positive and also false negative.\n",
        "from sklearn.metrics import confusion_matrix\n",
        "confusionMatrix=confusion_matrix(y_test,y_pred)\n",
        "confusionMatrix"
      ],
      "metadata": {
        "id": "39yjvlNNZlfQ"
      },
      "execution_count": null,
      "outputs": []
    },
    {
      "cell_type": "code",
      "source": [
        "# Plotting heat map of Confusion Matrix\n",
        "sns.heatmap(confusionMatrix,annot=True)\n",
        "plt.xlabel('Predicted Value')\n",
        "plt.ylabel('Actual Value')\n",
        "plt.show()"
      ],
      "metadata": {
        "colab": {
          "base_uri": "https://localhost:8080/",
          "height": 279
        },
        "id": "HfnoryAkZuOK",
        "outputId": "94798673-1c90-4caa-be5f-a13bf3658f8b"
      },
      "execution_count": null,
      "outputs": [
        {
          "output_type": "display_data",
          "data": {
            "text/plain": [
              "<Figure size 432x288 with 2 Axes>"
            ],
            "image/png": "[encoded data removed]"
          },
          "metadata": {
            "needs_background": "light"
          }
        }
      ]
    },
    {
      "cell_type": "markdown",
      "source": [
        "The confusion matrix shows 25+27 = 52 correct predictions and 5+4= 9 incorrect ones.\n",
        "\n",
        "True Positives: 27\n",
        "\n",
        "True Negatives: 25\n",
        "\n",
        "False Positives: 4 (Type I error)\n",
        "\n",
        "False Negatives: 5 ( Type II error)"
      ],
      "metadata": {
        "id": "RzryCwO7xAUz"
      }
    },
    {
      "cell_type": "code",
      "source": [
        "# Calculating the total value of precision, recall, \n",
        "# f-1 score, accuracy , macro avg and also weighted avg\n",
        "from sklearn.metrics import classification_report\n",
        "print(classification_report(y_test, y_pred))"
      ],
      "metadata": {
        "colab": {
          "base_uri": "https://localhost:8080/"
        },
        "id": "xkTquIwPZwE1",
        "outputId": "f2f8595c-64b7-4e2d-ecc3-52ee6eeb3dbf"
      },
      "execution_count": null,
      "outputs": [
        {
          "output_type": "stream",
          "name": "stdout",
          "text": [
            "              precision    recall  f1-score   support\n",
            "\n",
            "           0       0.83      0.86      0.85        29\n",
            "           1       0.87      0.84      0.86        32\n",
            "\n",
            "    accuracy                           0.85        61\n",
            "   macro avg       0.85      0.85      0.85        61\n",
            "weighted avg       0.85      0.85      0.85        61\n",
            "\n"
          ]
        }
      ]
    },
    {
      "cell_type": "code",
      "source": [
        "from sklearn.metrics import accuracy_score"
      ],
      "metadata": {
        "id": "Qlx3EsYrZ2-7"
      },
      "execution_count": null,
      "outputs": []
    },
    {
      "cell_type": "code",
      "source": [
        "accuracy_score(y_test,y_pred)*100"
      ],
      "metadata": {
        "colab": {
          "base_uri": "https://localhost:8080/"
        },
        "id": "h5SncOKSZ8rX",
        "outputId": "ada57523-a2ad-47d3-fd2a-02ed09a42b84"
      },
      "execution_count": null,
      "outputs": [
        {
          "output_type": "execute_result",
          "data": {
            "text/plain": [
              "85.24590163934425"
            ]
          },
          "metadata": {},
          "execution_count": 40
        }
      ]
    },
    {
      "cell_type": "markdown",
      "source": [
        "# 5. AUC-ROC Curve"
      ],
      "metadata": {
        "id": "tjA3dSeAgJkN"
      }
    },
    {
      "cell_type": "code",
      "source": [
        "from sklearn.metrics import auc,roc_curve, roc_auc_score\n",
        "from sklearn.preprocessing import label_binarize\n",
        "from sklearn.multiclass import OneVsRestClassifier\n",
        "from sklearn import svm\n",
        "from itertools import cycle"
      ],
      "metadata": {
        "id": "hVFresKJmz3X"
      },
      "execution_count": null,
      "outputs": []
    },
    {
      "cell_type": "code",
      "source": [
        "X = datasets[['age','sex','oldpeak']]\n",
        "y = datasets['thal']\n",
        "y = label_binarize(y,classes=[1,2,3])\n",
        "n_classes = y.shape[1]\n",
        "\n",
        "X_train, X_test, y_train, y_test = train_test_split(X,y, test_size=0.3, random_state=1)\n",
        "classifier = OneVsRestClassifier(svm.SVC(kernel='linear', probability=True,random_state=1))\n",
        "y_score = classifier.fit(X_train, y_train).decision_function(X_test)\n",
        "fpr = dict()\n",
        "tpr = dict()\n",
        "roc_auc = dict()\n",
        "\n",
        "for i in range(n_classes):\n",
        "    fpr[i], tpr[i], _ = roc_curve(y_test[:, i], y_score[:, i])\n",
        "    roc_auc[i] = auc(fpr[i], tpr[i])\n",
        "\n",
        "colors = cycle(['blue', 'red', 'green'])\n",
        "\n",
        "for i, color in zip(range(n_classes), colors):\n",
        "    plt.plot(fpr[i], tpr[i], color=color, label='ROC curve of class {0} (area = {1:0.2f})'.format(i, roc_auc[i]))\n",
        "\n",
        "plt.plot([0, 1], [0, 1], 'k--')\n",
        "plt.xlim([-0.05, 1.0])\n",
        "plt.ylim([0.0, 1.05])\n",
        "\n",
        "plt.title('Multi-Class AUC ROC diagram for Heart Disease Dataset')\n",
        "plt.xlabel('False Positive Rate')\n",
        "plt.ylabel('True Positive Rate')\n",
        "plt.legend(loc=\"lower right\")\n",
        "plt.show()"
      ],
      "metadata": {
        "colab": {
          "base_uri": "https://localhost:8080/",
          "height": 295
        },
        "id": "AsHuhtCvm4nU",
        "outputId": "de247e62-27aa-43a5-b590-794d6c939412"
      },
      "execution_count": null,
      "outputs": [
        {
          "output_type": "display_data",
          "data": {
            "text/plain": [
              "<Figure size 432x288 with 1 Axes>"
            ],
            "image/png": "[encoded data removed]"
          },
          "metadata": {
            "needs_background": "light"
          }
        }
      ]
    },
    {
      "cell_type": "markdown",
      "source": [
        "A common way to visualize the trade-offs of different thresholds is by using an ROC curve, a plot of the true positive rate (# true positives/ total # positives) versus the false positive rate (# false positives / total # negatives) for all possible choices of thresholds"
      ],
      "metadata": {
        "id": "rtohN4ctyK0M"
      }
    }
  ]
}